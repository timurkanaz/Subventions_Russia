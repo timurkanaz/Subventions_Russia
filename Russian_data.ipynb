{
 "cells": [
  {
   "cell_type": "code",
   "execution_count": 1,
   "metadata": {
    "scrolled": true
   },
   "outputs": [],
   "source": [
    "import geopandas as gpd\n",
    "import pandas as pd\n",
    "from bs4 import BeautifulSoup\n",
    "import folium\n",
    "import regex as re\n",
    "import requests\n",
    "from shapely.geometry import Polygon\n"
   ]
  },
  {
   "cell_type": "code",
   "execution_count": 2,
   "metadata": {},
   "outputs": [],
   "source": [
    "#List of Russian regions\n",
    "regs=['Республика Адыгея (Адыгея)','Алтайский край','Амурская обл.',\n",
    "      'Архангельская обл.','Астраханская обл.','Республика Башкортостан',\n",
    "      'Белгородская обл.','Брянская обл.','Республика Бурятия',\n",
    "     'Чеченская Республика','Челябинская обл.','Чукотский АО','Чувашская Республика - Чувашия','г. Санкт-Петербург',\n",
    "      'Республика Дагестан','Республика Алтай','Республика Ингушетия','Иркутская обл.','Ивановская обл.',\n",
    "      'Кабардино-Балкарская Республика','Калининградская обл.','Республика Калмыкия','Калужская обл.','Камчатский край',\n",
    "      'Карачаево-Черкесская Республика','Республика Карелия','Кемеровская обл. - Кузбасс','Хабаровский край','Республика Хакасия',\n",
    "      'Ханты-Мансийский АО - Югра','Кировская обл.','Республика Коми','Костромская обл.','Краснодарский край',\n",
    "      'Красноярский край','Курганская обл.','Курская обл.','Ленинградская обл.','Липецкая обл.','Магаданская обл.','Республика Марий Эл',\n",
    "     'Республика Мордовия','г. Москва','Московская обл.','Мурманская обл.','Ненецкий АО','Нижегородская обл.','Республика Северная Осетия - Алания',\n",
    "     'Новгородская обл.','Новосибирская обл.','Омская обл.','Орловская обл.','Оренбургская обл.','Пензенская обл.','Пермский край',\n",
    "     'Приморский край','Псковская обл.','Ростовская обл.','Рязанская обл.','Республика Саха (Якутия)','Сахалинская обл.','Самарская обл.',\n",
    "      'Саратовская обл.','Смоленская обл.','Ставропольский край','Свердловская обл.','Тамбовская обл.','Республика Татарстан (Татарстан)',\n",
    "     'Томская обл.','Тульская обл.','Республика Тыва','Тверская обл.','Тюменская обл.','Удмуртская Республика','Ульяновская обл.',\n",
    "     'Владимирская обл.','Волгоградская обл.','Вологодская обл.','Воронежская обл.','Ямало-Ненецкий АО','Ярославская обл.','Еврейская АО',\n",
    "     'Забайкальский край','Республика Крым','город федерального значения Севастополь']\n"
   ]
  },
  {
   "cell_type": "code",
   "execution_count": 3,
   "metadata": {},
   "outputs": [],
   "source": [
    "#However,there are no Crimea and Sevastopol in shape file .Importing .shp and parsing forgotten regions from OSM.\n",
    "rr=gpd.read_file('Regions/gadm36_RUS_1.shp')\n",
    "forgotten=['Республика Крым','Севастополь']\n",
    "forgotten_coord=[]\n",
    "for region in forgotten:\n",
    "    d=requests.get('http://nominatim.openstreetmap.org/search?format=json&state='+region+'&polygon_geojson=1')\n",
    "    forgotten_coord.append(Polygon(d.json()[0]['geojson']['coordinates'][0]))\n"
   ]
  },
  {
   "cell_type": "code",
   "execution_count": 4,
   "metadata": {},
   "outputs": [
    {
     "name": "stderr",
     "output_type": "stream",
     "text": [
      "<ipython-input-4-a12bdac3f2bc>:3: FutureWarning: Assigning CRS to a GeoDataFrame without a geometry column is now deprecated and will not be supported in the future.\n",
      "  rr=gpd.GeoDataFrame(rr,crs={'init': 'epsg:3857'})\n"
     ]
    }
   ],
   "source": [
    "#Append regions to geoseries and create geodataframe\n",
    "rr=rr['geometry'].append(gpd.GeoSeries(forgotten_coord),ignore_index=True)\n",
    "rr=gpd.GeoDataFrame(rr,crs={'init': 'epsg:3857'})\n",
    "rr.columns=['geometry']\n",
    "rr['region']=regs\n",
    "rr=rr[['region','geometry']].sort_values('region')\n",
    "rr.index=[i for i in range(len(rr.index))]"
   ]
  },
  {
   "cell_type": "code",
   "execution_count": 5,
   "metadata": {},
   "outputs": [],
   "source": [
    "#Get table with statistics\n",
    "g=requests.get('http://fincan.ru/articles/117_dotacii-regionam-rossii-2020/')\n",
    "soup=BeautifulSoup(g.text,'lxml')\n",
    "table_rows=soup.find_all('table')[0].find_all('tr')\n",
    "table_rows=table_rows[1:86]\n",
    "\n",
    "#Get region names and subventions. \n",
    "regions=[]\n",
    "subvention=[]\n",
    "for row in table_rows:\n",
    "    reg,mon=row.find_all('td')\n",
    "    regions.append(str(reg).replace('<td>','').replace('</td>',''))\n",
    "    subvention.append(str(mon).replace('<td>','').replace('</td>',''))\n"
   ]
  },
  {
   "cell_type": "code",
   "execution_count": 6,
   "metadata": {},
   "outputs": [],
   "source": [
    "#Made Pandas DataFrame and convert subventions to float\n",
    "rd=pd.DataFrame([regions,subvention]).T\n",
    "rd.columns=['region','subvention']\n",
    "rd['subvention']=rd.subvention.str.replace(',','.').astype('float')\n",
    "rd.sort_values(by='region',inplace=True,ignore_index=True)"
   ]
  },
  {
   "cell_type": "code",
   "execution_count": 7,
   "metadata": {},
   "outputs": [],
   "source": [
    "#Parsing table with region's incomes\n",
    "raw_data=requests.get('http://bujet.ru/article/396309.php')\n",
    "soup = BeautifulSoup(raw_data.text, 'lxml')\n",
    "tables=soup.find_all('table')[0]\n",
    "raw_data=tables.find_all('tr')[2:88]\n"
   ]
  },
  {
   "cell_type": "code",
   "execution_count": 8,
   "metadata": {},
   "outputs": [],
   "source": [
    "regions1=[]\n",
    "budgets=[]\n",
    "for row in raw_data:\n",
    "    regions1.append(re.findall(r'\\S[A-Яа-я- ]+',row.find_all('td')[1].text)[0])\n",
    "    budgets.append(re.findall(r'\\S[0-9,]+',row.find_all('td')[2].text)[0].replace(',','.'))"
   ]
  },
  {
   "cell_type": "code",
   "execution_count": 9,
   "metadata": {},
   "outputs": [
    {
     "name": "stderr",
     "output_type": "stream",
     "text": [
      "C:\\Users\\timna\\anaconda3\\lib\\site-packages\\pyproj\\crs\\crs.py:53: FutureWarning: '+init=<authority>:<code>' syntax is deprecated. '<authority>:<code>' is the preferred initialization method. When making the change, be mindful of axis order changes: https://pyproj4.github.io/pyproj/stable/gotchas.html#axis-order-changes-in-proj-6\n",
      "  return _prepare_from_string(\" \".join(pjargs))\n"
     ]
    }
   ],
   "source": [
    "reg_inc=pd.DataFrame([regions1,budgets]).T\n",
    "reg_inc.columns=['region','income']\n",
    "reg_inc.sort_values('region',ignore_index=True,inplace=True)\n",
    "rr.iloc[[82,83,84],0]=rr.iloc[[82,83,84],0].str.replace('город федерального значения ','').str.replace('г. ','')\n",
    "rr.sort_values('region',inplace=True,ignore_index=True)\n",
    "rd.iloc[[82,83,84],0]=rd.iloc[[82,83,84],0].str.replace('город федерального значения ','').str.replace('г. ','')\n",
    "rd.sort_values('region',inplace=True,ignore_index=True)\n",
    "rd['income']=reg_inc['income']\n",
    "rd['%']=round(rd['subvention']/rd['income'].astype('float')*100,2)\n",
    "m=folium.Map()\n",
    "rr=rr.merge(rd,on='region')\n",
    "rd=rd.query('subvention!=0')\n",
    "rr=rr.query('subvention!=0')"
   ]
  },
  {
   "cell_type": "code",
   "execution_count": 10,
   "metadata": {},
   "outputs": [],
   "source": [
    "#It is time for folium!\n",
    "g=folium.Choropleth(geo_data=rr[['region','geometry','%']].to_json(),\n",
    "    data=rd,\n",
    "    name='choropleth',\n",
    "    columns=['region','%'],\n",
    "    key_on='feature.properties.region',\n",
    "    fill_color='Spectral',\n",
    "    fill_opacity=0.5,\n",
    "    line_opacity=0.5,\n",
    "    legend_name='percentage of subsidies',\n",
    "    highlight = True).add_to(m)\n",
    "g.geojson.add_child(\n",
    "    folium.features.GeoJsonTooltip(['region','%']))\n",
    "m.save('reg_subs.html')"
   ]
  },
  {
   "cell_type": "code",
   "execution_count": 11,
   "metadata": {},
   "outputs": [],
   "source": [
    "rr.to_file('Regions/Rus_Reg.geojson',encoding='utf-8',driver='GeoJSON')"
   ]
  },
  {
   "cell_type": "code",
   "execution_count": null,
   "metadata": {},
   "outputs": [],
   "source": []
  }
 ],
 "metadata": {
  "kernelspec": {
   "display_name": "Python 3",
   "language": "python",
   "name": "python3"
  },
  "language_info": {
   "codemirror_mode": {
    "name": "ipython",
    "version": 3
   },
   "file_extension": ".py",
   "mimetype": "text/x-python",
   "name": "python",
   "nbconvert_exporter": "python",
   "pygments_lexer": "ipython3",
   "version": "3.8.3"
  }
 },
 "nbformat": 4,
 "nbformat_minor": 2
}
