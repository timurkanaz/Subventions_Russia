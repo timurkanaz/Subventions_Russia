{
 "cells": [
  {
   "cell_type": "code",
   "execution_count": 23,
   "metadata": {
    "scrolled": true
   },
   "outputs": [
    {
     "name": "stderr",
     "output_type": "stream",
     "text": [
      "<ipython-input-23-457a0f63a189>:38: FutureWarning: Assigning CRS to a GeoDataFrame without a geometry column is now deprecated and will not be supported in the future.\n",
      "  rr=gpd.GeoDataFrame(rr,crs={'init': 'epsg:3857'})\n",
      "C:\\Users\\timna\\anaconda3\\lib\\site-packages\\pyproj\\crs\\crs.py:53: FutureWarning: '+init=<authority>:<code>' syntax is deprecated. '<authority>:<code>' is the preferred initialization method. When making the change, be mindful of axis order changes: https://pyproj4.github.io/pyproj/stable/gotchas.html#axis-order-changes-in-proj-6\n",
      "  return _prepare_from_string(\" \".join(pjargs))\n"
     ]
    }
   ],
   "source": [
    "import geopandas as gpd\n",
    "import pandas as pd\n",
    "from bs4 import BeautifulSoup\n",
    "import folium\n",
    "import requests\n",
    "from shapely.geometry import Polygon\n",
    "\n",
    "\n",
    "#List of Russian regions\n",
    "regs=['Республика Адыгея (Адыгея)','Алтайский край','Амурская обл.',\n",
    "      'Архангельская обл.','Астраханская обл.','Республика Башкортостан',\n",
    "      'Белгородская обл.','Брянская обл.','Республика Бурятия',\n",
    "     'Чеченская Республика','Челябинская обл.','Чукотский АО','Чувашская Республика - Чувашия','г. Санкт-Петербург',\n",
    "      'Республика Дагестан','Республика Алтай','Республика Ингушетия','Иркутская обл.','Ивановская обл.',\n",
    "      'Кабардино-Балкарская Республика','Калининградская обл.','Республика Калмыкия','Калужская обл.','Камчатский край',\n",
    "      'Карачаево-Черкесская Республика','Республика Карелия','Кемеровская обл. - Кузбасс','Хабаровский край','Республика Хакасия',\n",
    "      'Ханты-Мансийский АО - Югра','Кировская обл.','Республика Коми','Костромская обл.','Краснодарский край',\n",
    "      'Красноярский край','Курганская обл.','Курская обл.','Ленинградская обл.','Липецкая обл.','Магаданская обл.','Республика Марий Эл',\n",
    "     'Республика Мордовия','г. Москва','Московская обл.','Мурманская обл.','Ненецкий АО','Нижегородская обл.','Республика Северная Осетия - Алания',\n",
    "     'Новгородская обл.','Новосибирская обл.','Омская обл.','Орловская обл.','Оренбургская обл.','Пензенская обл.','Пермский край',\n",
    "     'Приморский край','Псковская обл.','Ростовская обл.','Рязанская обл.','Республика Саха (Якутия)','Сахалинская обл.','Самарская обл.',\n",
    "      'Саратовская обл.','Смоленская обл.','Ставропольский край','Свердловская обл.','Тамбовская обл.','Республика Татарстан (Татарстан)',\n",
    "     'Томская обл.','Тульская обл.','Республика Тыва','Тверская обл.','Тюменская обл.','Удмуртская Республика','Ульяновская обл.',\n",
    "     'Владимирская обл.','Волгоградская обл.','Вологодская обл.','Воронежская обл.','Ямало-Ненецкий АО','Ярославская обл.','Еврейская АО',\n",
    "     'Забайкальский край','Республика Крым','город федерального значения Севастополь']\n",
    "\n",
    "\n",
    "#However,there are no Crimea and Sevastopol in shape file .Importing .shp and parsing forgotten regions from OSM.\n",
    "rr=gpd.read_file('Regions/gadm36_RUS_1.shp')\n",
    "forgotten=['Республика Крым','Севастополь']\n",
    "forgotten_coord=[]\n",
    "for region in forgotten:\n",
    "    d=requests.get('http://nominatim.openstreetmap.org/search?format=json&state='+region+'&polygon_geojson=1')\n",
    "    forgotten_coord.append(Polygon(d.json()[0]['geojson']['coordinates'][0]))\n",
    "\n",
    "#Append regions to geoseries and create geodataframe\n",
    "rr=rr['geometry'].append(gpd.GeoSeries(forgotten_coord),ignore_index=True)\n",
    "rr=gpd.GeoDataFrame(rr,crs={'init': 'epsg:3857'})\n",
    "rr.columns=['geometry']\n",
    "rr['region']=regs\n",
    "rr=rr[['region','geometry']].sort_values('region')\n",
    "rr.index=[i for i in range(len(rr.index))]\n",
    "\n",
    "#Get table with statistics\n",
    "g=requests.get('http://fincan.ru/articles/117_dotacii-regionam-rossii-2020/')\n",
    "soup=BeautifulSoup(g.text,'lxml')\n",
    "table_rows=soup.find_all('table')[0].find_all('tr')\n",
    "table_rows=table_rows[1:86]\n",
    "\n",
    "#Get region names and subventions. \n",
    "regions=[]\n",
    "subvention=[]\n",
    "for row in table_rows:\n",
    "    reg,mon=row.find_all('td')\n",
    "    regions.append(str(reg).replace('<td>','').replace('</td>',''))\n",
    "    subvention.append(str(mon).replace('<td>','').replace('</td>',''))\n",
    "\n",
    "#Made Pandas DataFrame and convert subventions to float\n",
    "rd=pd.DataFrame([regions,subvention]).T\n",
    "rd.columns=['region','subvention']\n",
    "rd['subvention']=rd.subvention.str.replace(',','.').astype('float')\n",
    "rd.sort_values(by='region',inplace=True,ignore_index=True)\n",
    "#It is time for folium!\n",
    "m=folium.Map()\n",
    "rr=rr.merge(rd,on='region')\n",
    "rd=rd.query('subvention!=0')\n",
    "g=folium.Choropleth(geo_data=rr[['region','geometry','subvention']].to_json(),\n",
    "    data=rd,\n",
    "    name='choropleth',\n",
    "    columns=['region','subvention'],\n",
    "    key_on='feature.properties.region',\n",
    "    fill_color='YlGnBu',\n",
    "    bins=[0,5,10,15,75],\n",
    "    fill_opacity=0.5,\n",
    "    line_opacity=0.5,\n",
    "    legend_name='Subventions',\n",
    "    highlight = True).add_to(m)\n",
    "g.geojson.add_child(\n",
    "    folium.features.GeoJsonTooltip(['region','subvention']))\n",
    "m.save('reg_subv.html')\n",
    "# Save file with regional boundaries for further observations\n",
    "rr.to_file('Regions/Rus_Reg.geojson',encoding='utf-8',driver='GeoJSON')\n"
   ]
  },
  {
   "cell_type": "code",
   "execution_count": null,
   "metadata": {},
   "outputs": [],
   "source": []
  }
 ],
 "metadata": {
  "kernelspec": {
   "display_name": "Python 3",
   "language": "python",
   "name": "python3"
  },
  "language_info": {
   "codemirror_mode": {
    "name": "ipython",
    "version": 3
   },
   "file_extension": ".py",
   "mimetype": "text/x-python",
   "name": "python",
   "nbconvert_exporter": "python",
   "pygments_lexer": "ipython3",
   "version": "3.8.3"
  }
 },
 "nbformat": 4,
 "nbformat_minor": 2
}
